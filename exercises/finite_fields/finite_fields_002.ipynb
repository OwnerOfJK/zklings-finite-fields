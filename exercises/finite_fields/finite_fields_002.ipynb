{
 "cells": [
  {
   "cell_type": "markdown",
   "metadata": {},
   "source": [
    "# Binary Operation\n",
    "\n",
    "[More specifically, a binary operation on a set is a binary function whose two domains and the codomain are the same set.](https://en.wikipedia.org/wiki/Binary_operation#:~:text=More%20specifically%2C%20a%20binary%20operation%20on%20a%20set%20is%20a%20binary%20function%20whose%20two%20domains%20and%20the%20codomain%20are%20the%20same%20set.)\n",
    "\n",
    "One important feature is from the same set, another is closure.\n",
    "\n",
    "The following function will help you to understand above sentence"
   ]
  },
  {
   "cell_type": "code",
   "execution_count": null,
   "metadata": {
    "vscode": {
     "languageId": "plaintext"
    }
   },
   "outputs": [],
   "source": [
    "def add_numbers(a: int, b: int) -> int:\n",
    "    return a + b\n",
    "\n",
    "add_numbers(10, 11)"
   ]
  },
  {
   "cell_type": "code",
   "execution_count": null,
   "metadata": {
    "vscode": {
     "languageId": "plaintext"
    }
   },
   "outputs": [],
   "source": [
    "def times_numbers(a: int, b: int) -> int:\n",
    "    return a * b\n",
    "\n",
    "times_numbers(17, 19)"
   ]
  },
  {
   "cell_type": "code",
   "execution_count": null,
   "metadata": {
    "vscode": {
     "languageId": "plaintext"
    }
   },
   "outputs": [],
   "source": [
    "def bigger_one(a: int, b: int) -> int:\n",
    "    return a if a > b else b\n",
    "\n",
    "bigger_one(17, 19)"
   ]
  },
  {
   "cell_type": "code",
   "execution_count": null,
   "metadata": {
    "vscode": {
     "languageId": "plaintext"
    }
   },
   "outputs": [],
   "source": [
    "def bigger_(a: int, b: int) -> bool:\n",
    "    return true if a > b else false\n",
    "\n",
    "bigger_(17, 19)"
   ]
  },
  {
   "cell_type": "code",
   "execution_count": null,
   "metadata": {
    "vscode": {
     "languageId": "plaintext"
    }
   },
   "outputs": [],
   "source": [
    "def repated(times: int, s: str) -> str:\n",
    "    res = \"\"\n",
    "    for i in range(times):\n",
    "        res += s\n",
    "    return res\n",
    "    \n",
    "repated(10, \"s\")"
   ]
  },
  {
   "cell_type": "code",
   "execution_count": 1,
   "metadata": {
    "vscode": {
     "languageId": "plaintext"
    }
   },
   "outputs": [],
   "source": [
    "# TODO A function can check a function is a Binary Operation or not"
   ]
  },
  {
   "cell_type": "code",
   "execution_count": null,
   "metadata": {
    "vscode": {
     "languageId": "plaintext"
    }
   },
   "outputs": [],
   "source": []
  }
 ],
 "metadata": {
  "kernelspec": {
   "display_name": "SageMath 10.3",
   "language": "sage",
   "name": "SageMath-10.3"
  },
  "language_info": {
   "codemirror_mode": {
    "name": "ipython",
    "version": 3
   },
   "file_extension": ".py",
   "mimetype": "text/x-python",
   "name": "python",
   "nbconvert_exporter": "python",
   "pygments_lexer": "ipython3",
   "version": "3.11.1"
  }
 },
 "nbformat": 4,
 "nbformat_minor": 2
}
