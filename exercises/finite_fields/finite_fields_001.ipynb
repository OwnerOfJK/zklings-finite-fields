{
 "cells": [
  {
   "cell_type": "markdown",
   "metadata": {},
   "source": [
    "## Finite Fields\n",
    "\n",
    "**Finite fields** are a core element of cryptography and crucial when working with zero knowledge proofs. The goal within this chapter is to develop an intuition of the properties of a finite fiels and why they are important."
   ]
  },
  {
   "cell_type": "markdown",
   "metadata": {},
   "source": [
    "### Sets, Elements, and Operations"
   ]
  },
  {
   "cell_type": "markdown",
   "metadata": {},
   "source": [
    "To get started, let's define a **set** of integers. $$ \\mathbb{Z} = [..., -5, - 4, -3, -2, -1, 0, 1, 2, 3, 4, 5, 6, 7, 8, 9, 10, ...] $$ \n",
    "\n",
    "All integer numbers are **elements** of our **set**.\n",
    "\n",
    "We can define an **operation(Binary Operation)** on this **set**, for example, addition.\n",
    "\n",
    "[More specifically, a binary operation on a set is a binary function whose two domains and the codomain are the same set.](https://en.wikipedia.org/wiki/Binary_operation#:~:text=More%20specifically%2C%20a%20binary%20operation%20on%20a%20set%20is%20a%20binary%20function%20whose%20two%20domains%20and%20the%20codomain%20are%20the%20same%20set.)\n",
    "\n",
    "One important feature is from the same set, another is closure.\n",
    "\n",
    "The following function will help you to understand above sentence"
   ]
  },
  {
   "cell_type": "code",
   "execution_count": 2,
   "metadata": {},
   "outputs": [
    {
     "data": {
      "text/plain": [
       "21"
      ]
     },
     "execution_count": 2,
     "metadata": {},
     "output_type": "execute_result"
    }
   ],
   "source": [
    "def add_numbers(a: int, b: int) -> int:\n",
    "    return a + b\n",
    "\n",
    "add_numbers(10, 11)"
   ]
  },
  {
   "cell_type": "code",
   "execution_count": null,
   "metadata": {},
   "outputs": [],
   "source": [
    "def times_numbers(a: int, b: int) -> int:\n",
    "    return a * b\n",
    "\n",
    "times_numbers(17, 19)"
   ]
  },
  {
   "cell_type": "code",
   "execution_count": null,
   "metadata": {},
   "outputs": [],
   "source": [
    "def bigger_one(a: int, b: int) -> int:\n",
    "    return a if a > b else b\n",
    "\n",
    "bigger_one(17, 19)"
   ]
  },
  {
   "cell_type": "code",
   "execution_count": null,
   "metadata": {},
   "outputs": [],
   "source": [
    "def bigger_(a: int, b: int) -> bool:\n",
    "    return true if a > b else false\n",
    "\n",
    "bigger_(17, 19)"
   ]
  },
  {
   "cell_type": "code",
   "execution_count": null,
   "metadata": {},
   "outputs": [],
   "source": [
    "def repated(times: int, s: str) -> str:\n",
    "    res = \"\"\n",
    "    for i in range(times):\n",
    "        res += s\n",
    "    return res\n",
    "    \n",
    "repated(10, \"s\")"
   ]
  },
  {
   "cell_type": "markdown",
   "metadata": {},
   "source": [
    "### Groups"
   ]
  },
  {
   "cell_type": "markdown",
   "metadata": {},
   "source": [
    "A **group** in mathematics is the combination of a **set** and an **operation**.\n",
    "\n",
    "A group has certain properties:\n",
    "\n",
    "1. **Closure**: For any two elements a and b in the set, the result c of the operation a + b is also in the set.\n",
    "\n",
    "    - This allows us to freely combine **elements** of our set to create new **elements**.\n",
    "\n",
    "$$ a + b = c, \\quad \\text{where} \\quad a, b, c \\in \\mathbb{I} $$"
   ]
  },
  {
   "cell_type": "code",
   "execution_count": 3,
   "metadata": {},
   "outputs": [
    {
     "ename": "NameError",
     "evalue": "name 'add_operation' is not defined",
     "output_type": "error",
     "traceback": [
      "\u001b[0;31m---------------------------------------------------------------------------\u001b[0m",
      "\u001b[0;31mNameError\u001b[0m                                 Traceback (most recent call last)",
      "Cell \u001b[0;32mIn[3], line 2\u001b[0m\n\u001b[1;32m      1\u001b[0m \u001b[38;5;66;03m# Exercise 1: Basic closure example\u001b[39;00m\n\u001b[0;32m----> 2\u001b[0m \u001b[43madd_operation\u001b[49m(Integer(\u001b[38;5;241m234343\u001b[39m), \u001b[38;5;241m-\u001b[39mInteger(\u001b[38;5;241m2344334\u001b[39m))\n\u001b[1;32m      3\u001b[0m add_operation(Integer(\u001b[38;5;241m4353425\u001b[39m), Integer(\u001b[38;5;241m2345356658\u001b[39m))\n\u001b[1;32m      4\u001b[0m add_operation(\u001b[38;5;241m-\u001b[39mInteger(\u001b[38;5;241m237898709784343\u001b[39m), Integer(\u001b[38;5;241m56875455\u001b[39m))\n",
      "\u001b[0;31mNameError\u001b[0m: name 'add_operation' is not defined"
     ]
    }
   ],
   "source": [
    "# Exercise 1: Basic closure example\n",
    "add_operation(234343, -2344334)\n",
    "add_operation(4353425, 2345356658)\n",
    "add_operation(-237898709784343, 56875455)\n"
   ]
  },
  {
   "cell_type": "markdown",
   "metadata": {},
   "source": [
    "2. **Associativity**: For any three elements a, b, and c in the set, the operation satisfies (a + b) + c = a + (b + c).\n",
    "   - This allows us to group the elements in any way we want and the result will be the same.\n",
    "\n",
    "$$ (a + b) + c = a + (b + c) $$\n",
    "\n",
    "> Among other reasons, associativity enables computational flexibility. This is particularly useful when dealing with large computations or when the order of operations is not specified.\n"
   ]
  },
  {
   "cell_type": "code",
   "execution_count": 29,
   "metadata": {},
   "outputs": [
    {
     "name": "stdout",
     "output_type": "stream",
     "text": [
      "(3 + 5) + 2 = 10\n",
      "3 + (5 + 2) = 10\n",
      "Are they equal? True\n"
     ]
    }
   ],
   "source": [
    "# Exercise 2: Basic associativity example\n",
    "a, b, c = 3, 5, 2\n",
    "result1 = add_operation(add_operation(a, b), c)\n",
    "result2 = add_operation(a, add_operation(b, c))\n",
    "\n",
    "print(f\"({a} + {b}) + {c} = {result1}\")\n",
    "print(f\"{a} + ({b} + {c}) = {result2}\")\n",
    "print(f\"Are they equal? {result1 == result2}\")"
   ]
  },
  {
   "cell_type": "markdown",
   "metadata": {},
   "source": [
    "2. **Identity**: There exists an element e in the set such that for any element a in the set, the operation e + a = a + e = a.\n",
    "> The identity element is the element that, when combined with any other element, leaves the other element unchanged."
   ]
  },
  {
   "cell_type": "code",
   "execution_count": 33,
   "metadata": {},
   "outputs": [
    {
     "ename": "SyntaxError",
     "evalue": "invalid syntax (2712947509.py, line 2)",
     "output_type": "error",
     "traceback": [
      "\u001b[0;36m  Cell \u001b[0;32mIn[33], line 2\u001b[0;36m\u001b[0m\n\u001b[0;31m    identity = ?  # What is the identity element for addition? Create a toggle to reveal the answer.\u001b[0m\n\u001b[0m               ^\u001b[0m\n\u001b[0;31mSyntaxError\u001b[0m\u001b[0;31m:\u001b[0m invalid syntax\n"
     ]
    }
   ],
   "source": [
    "# Exercise 3: Basic identity example\n",
    "identity = ?  # What is the identity element for addition? Create a toggle to reveal the answer.\n",
    "a = 5  # Any number\n",
    "\n",
    "result1 = add_operation(identity, a)\n",
    "result2 = add_operation(a, identity)\n",
    "\n",
    "print(f\"Identity + {a} = {result1}\")\n",
    "print(f\"{a} + Identity = {result2}\")\n",
    "print(f\"Are both equal to {a}? {result1 == a and result2 == a}\")"
   ]
  },
  {
   "cell_type": "markdown",
   "metadata": {},
   "source": [
    "4. **Invertibility**: For any element a in the set, there exists an element b in the set such that a + b = b + a = e, where e is the identity element."
   ]
  },
  {
   "cell_type": "code",
   "execution_count": 34,
   "metadata": {},
   "outputs": [
    {
     "name": "stdout",
     "output_type": "stream",
     "text": [
      "5 + (-5) = 0\n",
      "(-5) + 5 = 0\n",
      "Are both equal to the identity (0)? True\n"
     ]
    }
   ],
   "source": [
    "# Exercise: Demonstrating invertibility with integers\n",
    "def find_inverse(a):\n",
    "    return -a\n",
    "\n",
    "# Example with integers\n",
    "a = 5\n",
    "inverse_a = find_inverse(a)\n",
    "identity = 0\n",
    "\n",
    "result1 = add_operation(a, inverse_a)\n",
    "result2 = add_operation(inverse_a, a)\n",
    "\n",
    "print(f\"{a} + ({inverse_a}) = {result1}\")\n",
    "print(f\"({inverse_a}) + {a} = {result2}\")\n",
    "print(f\"Are both equal to the identity ({identity})? {result1 == identity and result2 == identity}\")"
   ]
  },
  {
   "cell_type": "markdown",
   "metadata": {},
   "source": [
    "> It's important to think of elements not as number but as abstract objects that can be anything.\n",
    "\n",
    "go through the above with another set and operation to show that the properties hold for different sets and operations."
   ]
  },
  {
   "cell_type": "markdown",
   "metadata": {},
   "source": [
    "Below code will give you a simple example which is not a group, please read the code and make it to a group\n",
    "\n",
    "hit: the missing feature is closure\n",
    "\n",
    "once you finished please also add a function to get the identity element of this group"
   ]
  },
  {
   "cell_type": "code",
   "execution_count": 5,
   "metadata": {},
   "outputs": [],
   "source": [
    "class NaturalNumber:\n",
    "    def __init__(self, value):\n",
    "        if value % 1 != 0  or value < 0:\n",
    "            raise ValueError(\"Value must be a natural number.\")\n",
    "        self.value = value\n",
    "    \n",
    "    def __repr__(self):\n",
    "        return f\"NaturalNumber({self.value})\"\n",
    "    \n",
    "    def get_value(self):\n",
    "        return self.value\n",
    "\n",
    "    @staticmethod\n",
    "    def op(a, b, inverse=False):\n",
    "        if not isinstance(a, NaturalNumber) or not isinstance(b, NaturalNumber):\n",
    "            raise ValueError(\"Both arguments must be instances of NaturalNumber.\")\n",
    "        \n",
    "        if inverse:\n",
    "            result_value = a.get_value() - b.get_value()\n",
    "            if result_value <= 0:\n",
    "                raise ValueError(\"Result must be a natural number.\")\n",
    "        else:\n",
    "            result_value = a.get_value() + b.get_value()\n",
    "\n",
    "        return NaturalNumber(result_value)"
   ]
  },
  {
   "cell_type": "code",
   "execution_count": null,
   "metadata": {},
   "outputs": [],
   "source": [
    "x = NaturalNumber(3)\n",
    "y = NaturalNumber(5)\n",
    "\n",
    "result = NaturalNumber.op(x, y)\n",
    "print(result)"
   ]
  },
  {
   "cell_type": "code",
   "execution_count": null,
   "metadata": {},
   "outputs": [],
   "source": [
    "x = NaturalNumber(3)\n",
    "y = NaturalNumber(5)\n",
    "\n",
    "result = NaturalNumber.op(x, y, 1)\n",
    "print(result)"
   ]
  },
  {
   "cell_type": "markdown",
   "metadata": {},
   "source": [
    "### Field\n",
    "\n",
    "Now I believe you got the simplist example of group: the interger set.\n",
    "\n",
    "Let's move on to second part field, nothing to worry the field which is just a algbera stcture with two kind of operations."
   ]
  },
  {
   "cell_type": "code",
   "execution_count": null,
   "metadata": {},
   "outputs": [],
   "source": [
    "import math\n",
    "\n",
    "class RationalNumber:\n",
    "    def __init__(self, numerator, denominator):\n",
    "        if not isinstance(numerator, int) or not isinstance(denominator, int):\n",
    "            raise ValueError(\"Numerator and denominator must be integers.\")\n",
    "        if denominator == 0:\n",
    "            raise ValueError(\"Denominator cannot be zero.\")\n",
    "\n",
    "        # reduction\n",
    "        gcd = math.gcd(numerator, denominator)\n",
    "        self.numerator = numerator // gcd\n",
    "        self.denominator = denominator // gcd\n",
    "\n",
    "        # minus number on numerator\n",
    "        if self.denominator < 0:\n",
    "            self.numerator = -self.numerator"
   ]
  },
  {
   "cell_type": "markdown",
   "metadata": {},
   "source": [
    "\n",
    "### Finite Fields\n",
    "\n",
    "Why Prime?\n",
    "\n",
    "Usefulness of Finite Fields\n",
    "-> no infinity && loops discrete log probelm\n"
   ]
  },
  {
   "cell_type": "markdown",
   "metadata": {},
   "source": []
  }
 ],
 "metadata": {
  "kernelspec": {
   "display_name": "SageMath 10.3",
   "language": "sage",
   "name": "SageMath-10.3"
  },
  "language_info": {
   "codemirror_mode": {
    "name": "ipython",
    "version": 3
   },
   "file_extension": ".py",
   "mimetype": "text/x-python",
   "name": "python",
   "nbconvert_exporter": "python",
   "pygments_lexer": "ipython3",
   "version": "3.11.1"
  }
 },
 "nbformat": 4,
 "nbformat_minor": 2
}
