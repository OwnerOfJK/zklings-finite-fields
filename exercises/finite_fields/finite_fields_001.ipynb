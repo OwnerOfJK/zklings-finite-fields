{
 "cells": [
  {
   "cell_type": "markdown",
   "metadata": {},
   "source": [
    "## Finite Fields\n",
    "\n",
    "**Finite fields** are a core element of cryptography and crucial when working with zero knowledge proofs. The goal within this chapter is to develop an intuition of the properties of a finite fiels and why they are important."
   ]
  },
  {
   "cell_type": "markdown",
   "metadata": {},
   "source": [
    "### Sets, Elements, and Operations"
   ]
  },
  {
   "cell_type": "markdown",
   "metadata": {},
   "source": [
    "To get started, let's define a **set** of integers. $$ \\mathbb{I} = [..., -5, - 4, -3, -2, -1, 0, 1, 2, 3, 4, 5, 6, 7, 8, 9, 10, ...] $$ \n",
    "\n",
    "All integer numbers are **elements** of our **set**.\n",
    "\n",
    "We can define an **operation** on this **set**, for example, addition."
   ]
  },
  {
   "cell_type": "code",
   "execution_count": 1,
   "metadata": {},
   "outputs": [
    {
     "data": {
      "text/plain": [
       "6"
      ]
     },
     "execution_count": 1,
     "metadata": {},
     "output_type": "execute_result"
    }
   ],
   "source": [
    "def add_operation(a, b):\n",
    "    return a + b\n",
    "\n",
    "add_operation(4, 2)"
   ]
  },
  {
   "cell_type": "markdown",
   "metadata": {},
   "source": [
    "### Groups"
   ]
  },
  {
   "cell_type": "markdown",
   "metadata": {},
   "source": [
    "A **group** in mathematics is the combination of a **set** and an **operation**.\n",
    "\n",
    "A group has certain properties:\n",
    "\n",
    "1. **Closure**: For any two elements a and b in the set, the result c of the operation a + b is also in the set.\n",
    "\n",
    "    - This allows us to freely combine **elements** of our set to create new **elements**.\n",
    "\n",
    "$$ a + b = c, \\quad \\text{where} \\quad a, b, c \\in \\mathbb{I} $$"
   ]
  },
  {
   "cell_type": "code",
   "execution_count": 28,
   "metadata": {},
   "outputs": [
    {
     "data": {
      "text/plain": [
       "-237898652908888"
      ]
     },
     "execution_count": 28,
     "metadata": {},
     "output_type": "execute_result"
    }
   ],
   "source": [
    "# Exercise 1: Basic closure example\n",
    "add_operation(234343, -2344334)\n",
    "add_operation(4353425, 2345356658)\n",
    "add_operation(-237898709784343, 56875455)\n"
   ]
  },
  {
   "cell_type": "markdown",
   "metadata": {},
   "source": [
    "2. **Associativity**: For any three elements a, b, and c in the set, the operation satisfies (a + b) + c = a + (b + c).\n",
    "   - This allows us to group the elements in any way we want and the result will be the same.\n",
    "\n",
    "$$ (a + b) + c = a + (b + c) $$\n",
    "\n",
    "> Among other reasons, associativity enables computational flexibility. This is particularly useful when dealing with large computations or when the order of operations is not specified.\n"
   ]
  },
  {
   "cell_type": "code",
   "execution_count": 29,
   "metadata": {},
   "outputs": [
    {
     "name": "stdout",
     "output_type": "stream",
     "text": [
      "(3 + 5) + 2 = 10\n",
      "3 + (5 + 2) = 10\n",
      "Are they equal? True\n"
     ]
    }
   ],
   "source": [
    "# Exercise 2: Basic associativity example\n",
    "a, b, c = 3, 5, 2\n",
    "result1 = add_operation(add_operation(a, b), c)\n",
    "result2 = add_operation(a, add_operation(b, c))\n",
    "\n",
    "print(f\"({a} + {b}) + {c} = {result1}\")\n",
    "print(f\"{a} + ({b} + {c}) = {result2}\")\n",
    "print(f\"Are they equal? {result1 == result2}\")"
   ]
  },
  {
   "cell_type": "markdown",
   "metadata": {},
   "source": [
    "2. **Identity**: There exists an element e in the set such that for any element a in the set, the operation e + a = a + e = a.\n",
    "> The identity element is the element that, when combined with any other element, leaves the other element unchanged."
   ]
  },
  {
   "cell_type": "code",
   "execution_count": 33,
   "metadata": {},
   "outputs": [
    {
     "ename": "SyntaxError",
     "evalue": "invalid syntax (2712947509.py, line 2)",
     "output_type": "error",
     "traceback": [
      "\u001b[0;36m  Cell \u001b[0;32mIn[33], line 2\u001b[0;36m\u001b[0m\n\u001b[0;31m    identity = ?  # What is the identity element for addition? Create a toggle to reveal the answer.\u001b[0m\n\u001b[0m               ^\u001b[0m\n\u001b[0;31mSyntaxError\u001b[0m\u001b[0;31m:\u001b[0m invalid syntax\n"
     ]
    }
   ],
   "source": [
    "# Exercise 3: Basic identity example\n",
    "identity = ?  # What is the identity element for addition? Create a toggle to reveal the answer.\n",
    "a = 5  # Any number\n",
    "\n",
    "result1 = add_operation(identity, a)\n",
    "result2 = add_operation(a, identity)\n",
    "\n",
    "print(f\"Identity + {a} = {result1}\")\n",
    "print(f\"{a} + Identity = {result2}\")\n",
    "print(f\"Are both equal to {a}? {result1 == a and result2 == a}\")"
   ]
  },
  {
   "cell_type": "markdown",
   "metadata": {},
   "source": [
    "4. **Invertibility**: For any element a in the set, there exists an element b in the set such that a + b = b + a = e, where e is the identity element."
   ]
  },
  {
   "cell_type": "code",
   "execution_count": 34,
   "metadata": {},
   "outputs": [
    {
     "name": "stdout",
     "output_type": "stream",
     "text": [
      "5 + (-5) = 0\n",
      "(-5) + 5 = 0\n",
      "Are both equal to the identity (0)? True\n"
     ]
    }
   ],
   "source": [
    "# Exercise: Demonstrating invertibility with integers\n",
    "def find_inverse(a):\n",
    "    return -a\n",
    "\n",
    "# Example with integers\n",
    "a = 5\n",
    "inverse_a = find_inverse(a)\n",
    "identity = 0\n",
    "\n",
    "result1 = add_operation(a, inverse_a)\n",
    "result2 = add_operation(inverse_a, a)\n",
    "\n",
    "print(f\"{a} + ({inverse_a}) = {result1}\")\n",
    "print(f\"({inverse_a}) + {a} = {result2}\")\n",
    "print(f\"Are both equal to the identity ({identity})? {result1 == identity and result2 == identity}\")"
   ]
  },
  {
   "cell_type": "markdown",
   "metadata": {},
   "source": [
    "> It's important to think of elements not as number but as abstract objects that can be anything.\n",
    "\n",
    "go through the above with anotehr set and operation to show that the properties hold for different sets and operations."
   ]
  },
  {
   "cell_type": "code",
   "execution_count": 6,
   "metadata": {},
   "outputs": [
    {
     "data": {
      "text/plain": [
       "3"
      ]
     },
     "execution_count": 6,
     "metadata": {},
     "output_type": "execute_result"
    }
   ],
   "source": []
  },
  {
   "cell_type": "markdown",
   "metadata": {},
   "source": [
    "\n",
    "\n",
    "\n",
    "\n",
    "\n",
    "\n",
    "### Infinite Sets ?? or inifite fields\n",
    "\n"
   ]
  },
  {
   "cell_type": "markdown",
   "metadata": {},
   "source": [
    "\n",
    "### Finite Fields\n",
    "\n",
    "Why Prime?\n",
    "\n",
    "Usefulness of Finite Fields\n",
    "-> no infinity && loops discrete log probelm\n"
   ]
  },
  {
   "cell_type": "markdown",
   "metadata": {},
   "source": []
  }
 ],
 "metadata": {
  "kernelspec": {
   "display_name": "Python 3",
   "language": "python",
   "name": "python3"
  },
  "language_info": {
   "codemirror_mode": {
    "name": "ipython",
    "version": 3
   },
   "file_extension": ".py",
   "mimetype": "text/x-python",
   "name": "python",
   "nbconvert_exporter": "python",
   "pygments_lexer": "ipython3",
   "version": "3.9.15"
  }
 },
 "nbformat": 4,
 "nbformat_minor": 2
}
